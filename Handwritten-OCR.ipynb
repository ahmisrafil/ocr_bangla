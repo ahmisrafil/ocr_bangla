{
 "cells": [
  {
   "cell_type": "code",
   "execution_count": 1,
   "id": "cc20d503",
   "metadata": {},
   "outputs": [],
   "source": [
    "import pytesseract"
   ]
  },
  {
   "cell_type": "code",
   "execution_count": 2,
   "id": "dba4a84b",
   "metadata": {},
   "outputs": [],
   "source": [
    "from PIL import Image\n",
    "import numpy as np\n",
    "from tensorflow.keras.models import load_model"
   ]
  },
  {
   "cell_type": "code",
   "execution_count": 3,
   "id": "d1c2a775",
   "metadata": {},
   "outputs": [],
   "source": [
    "pytesseract.pytesseract.tesseract_cmd=r'C:/Users/AHM ISRAFIL/AppData/Local/Programs/Python/Tesseract-OCR/tesseract.exe'"
   ]
  },
  {
   "cell_type": "code",
   "execution_count": 4,
   "id": "afa9f6e5",
   "metadata": {},
   "outputs": [],
   "source": [
    "#image = Image.open('C:/Users/AHM ISRAFIL/Documents/ANACONDA/OCR Bangla/img.jpg')\n",
    "image = Image.open('C:/Users/AHM ISRAFIL/Documents/ANACONDA/OCR Bangla/img2.png')"
   ]
  },
  {
   "cell_type": "code",
   "execution_count": 5,
   "id": "aef1399e",
   "metadata": {},
   "outputs": [],
   "source": [
    "# Perform OCR with Tesseract\n",
    "tesseract_text = pytesseract.image_to_string(image, lang='ben')"
   ]
  },
  {
   "cell_type": "code",
   "execution_count": 6,
   "id": "15bdd862",
   "metadata": {},
   "outputs": [],
   "source": [
    "# Load the trained model\n",
    "model = load_model('C:/Users/AHM ISRAFIL/Documents/ANACONDA/OCR Bangla/model.h5')"
   ]
  },
  {
   "cell_type": "code",
   "execution_count": 7,
   "id": "f77b7e1b",
   "metadata": {},
   "outputs": [
    {
     "name": "stdout",
     "output_type": "stream",
     "text": [
      "1/1 [==============================] - 0s 137ms/step\n"
     ]
    }
   ],
   "source": [
    "from tensorflow.keras.preprocessing.image import img_to_array, load_img\n",
    "\n",
    "# Load and preprocess the input image\n",
    "image = load_img('C:/Users/AHM ISRAFIL/Documents/ANACONDA/OCR Bangla/img2.png', target_size=(256, 256))\n",
    "image_array = img_to_array(image) / 255.0  \n",
    "image_array = np.expand_dims(image_array, axis=0)  \n",
    "\n",
    "# Perform inference with your model\n",
    "model_text = model.predict(image_array)"
   ]
  },
  {
   "cell_type": "code",
   "execution_count": 8,
   "id": "6a233c1a",
   "metadata": {},
   "outputs": [
    {
     "name": "stdout",
     "output_type": "stream",
     "text": [
      "ণ্ঠ\n"
     ]
    }
   ],
   "source": [
    "# Get the index with the highest probability\n",
    "predicted_index = np.argmax(model_text)\n",
    "\n",
    "# Replace the placeholder with your provided class labels\n",
    "class_labels = [\n",
    "    'া', 'ি', 'ী', 'ু', 'ূ', 'ৃ', 'ে', 'ৈ', 'ো', 'ৌ', 'অ', 'আ', 'ই', 'ঈ', 'উ', 'ঊ', \n",
    "    'ঋ', 'এ', 'ঐ', 'ও', 'ঔ', 'ক', 'খ', 'গ', 'ঘ', 'ঙ', 'চ', 'ছ', 'জ', 'ঝ', 'ঞ', \n",
    "    'ট', 'ঠ', 'ড', 'ঢ', 'ণ', 'ত', 'থ', 'দ', 'ধ', 'ন', 'প', 'ফ', 'ব', 'ভ', 'ম', \n",
    "    'য', 'র', 'ল', 'শ', 'ষ', 'স', 'হ', 'ড়', 'ঢ়', 'য়', 'ৎ', 'ং', 'ঃ', 'ঁ', 'ব্দ', \n",
    "    'ঙ্গ', 'স্ক', 'স্ফ', 'চ্ছ', 'স্থ', 'ক্ত', 'স্ন', 'ষ্ণ', 'ম্প', 'প্ত', 'ম্ব', \n",
    "    'ত্থ', 'দ্ভ', 'ষ্ঠ', 'ল্প', 'ষ্প', 'ন্দ', 'ন্ধ', 'স্ম', 'ণ্ঠ', 'স্ত', 'ষ্ট', \n",
    "    'ন্ম', 'ত্ত', 'ঙ্খ', 'ত্ন', 'ন্ড', 'জ্ঞ', 'ড্ড', 'ক্ষ', 'দ্ব', 'চ্চ', 'ক্র', \n",
    "    'দ্দ', 'জ্জ', 'ক্ক', 'ন্ত', 'ক্ট', 'ঞ্চ', 'ট্ট', 'শ্চ', 'ক্স', 'জ্ব', 'ঞ্জ', \n",
    "    'দ্ধ', 'ন্ন', 'ঘ্ন', 'ক্ল', 'হ্ন', 'স্প', 'ল্ত', '০', '১', '২', '৩', '৪', '৫', \n",
    "    '৬', '৭', '৮', '৯'\n",
    "]\n",
    "\n",
    "# Decode the predicted indices into the predicted text\n",
    "#predicted_text = ''.join([class_labels[idx] for idx in predicted_indices])\n",
    "\n",
    "\n",
    "predicted_text = class_labels[predicted_index]\n",
    "print(predicted_text)"
   ]
  },
  {
   "cell_type": "code",
   "execution_count": 9,
   "id": "b17d24e0",
   "metadata": {},
   "outputs": [
    {
     "name": "stdout",
     "output_type": "stream",
     "text": [
      "Index 0: Predicted Index 80, Predicted Label ণ্ঠ\n"
     ]
    }
   ],
   "source": [
    "# Get the index with the highest probability for each character position\n",
    "predicted_indices = np.argmax(model_text, axis=1)\n",
    "\n",
    "# Replace the placeholder with your provided class labels\n",
    "class_labels = [\n",
    "    'া', 'ি', 'ী', 'ু', 'ূ', 'ৃ', 'ে', 'ৈ', 'ো', 'ৌ', 'অ', 'আ', 'ই', 'ঈ', 'উ', 'ঊ', \n",
    "    'ঋ', 'এ', 'ঐ', 'ও', 'ঔ', 'ক', 'খ', 'গ', 'ঘ', 'ঙ', 'চ', 'ছ', 'জ', 'ঝ', 'ঞ', \n",
    "    'ট', 'ঠ', 'ড', 'ঢ', 'ণ', 'ত', 'থ', 'দ', 'ধ', 'ন', 'প', 'ফ', 'ব', 'ভ', 'ম', \n",
    "    'য', 'র', 'ল', 'শ', 'ষ', 'স', 'হ', 'ড়', 'ঢ়', 'য়', 'ৎ', 'ং', 'ঃ', 'ঁ', 'ব্দ', \n",
    "    'ঙ্গ', 'স্ক', 'স্ফ', 'চ্ছ', 'স্থ', 'ক্ত', 'স্ন', 'ষ্ণ', 'ম্প', 'প্ত', 'ম্ব', \n",
    "    'ত্থ', 'দ্ভ', 'ষ্ঠ', 'ল্প', 'ষ্প', 'ন্দ', 'ন্ধ', 'স্ম', 'ণ্ঠ', 'স্ত', 'ষ্ট', \n",
    "    'ন্ম', 'ত্ত', 'ঙ্খ', 'ত্ন', 'ন্ড', 'জ্ঞ', 'ড্ড', 'ক্ষ', 'দ্ব', 'চ্চ', 'ক্র', \n",
    "    'দ্দ', 'জ্জ', 'ক্ক', 'ন্ত', 'ক্ট', 'ঞ্চ', 'ট্ট', 'শ্চ', 'ক্স', 'জ্ব', 'ঞ্জ', \n",
    "    'দ্ধ', 'ন্ন', 'ঘ্ন', 'ক্ল', 'হ্ন', 'স্প', 'ল্ত', '০', '১', '২', '৩', '৪', '৫', \n",
    "    '৬', '৭', '৮', '৯'\n",
    "]\n",
    "\n",
    "# Decode the predicted indices into the predicted text\n",
    "predicted_text = ''.join([class_labels[idx] for idx in predicted_indices])\n",
    "\n",
    "# Print the predicted text\n",
    "#print(\"Predicted Text:\", predicted_text)\n",
    "\n",
    "# Print predicted indices and their corresponding class labels for debugging\n",
    "for idx, label_idx in enumerate(predicted_indices):\n",
    "    print(f\"Index {idx}: Predicted Index {label_idx}, Predicted Label {class_labels[label_idx]}\")"
   ]
  },
  {
   "cell_type": "code",
   "execution_count": 10,
   "id": "9c3c528e",
   "metadata": {},
   "outputs": [],
   "source": [
    "max_probability = np.max(model_text)\n",
    "model_text_confidence = max_probability"
   ]
  },
  {
   "cell_type": "code",
   "execution_count": 11,
   "id": "f433b4d4",
   "metadata": {},
   "outputs": [],
   "source": [
    "max_length = 100\n",
    "tesseract_confidence = len(tesseract_text) / max_length"
   ]
  },
  {
   "cell_type": "code",
   "execution_count": 12,
   "id": "d5077aae",
   "metadata": {},
   "outputs": [
    {
     "name": "stdout",
     "output_type": "stream",
     "text": [
      "ও মোর দুর্ভাগা দেশ, যাদের ফরেছে অপমান্য\n",
      "অপনানে হত হবে তাহাদের সবার সমান\n",
      "মায় অধিকারে”\n",
      "বর্ষিত করেছ যায়ে\n",
      "পদ্মুখে দাড়িয়ে রেখে শু কোলে দাও নাইন\n",
      "\n",
      "অপমানে হতে হরে তাহাদের সায় সমান\n",
      "\n"
     ]
    }
   ],
   "source": [
    "# Combine results\n",
    "# For demonstration purposes, let's just choose the text with the highest confidence\n",
    "final_text = model_text if model_text_confidence > tesseract_confidence else tesseract_text\n",
    "\n",
    "# Print the final result\n",
    "print(final_text)"
   ]
  },
  {
   "cell_type": "code",
   "execution_count": null,
   "id": "db123373",
   "metadata": {},
   "outputs": [],
   "source": []
  }
 ],
 "metadata": {
  "kernelspec": {
   "display_name": "Python 3 (ipykernel)",
   "language": "python",
   "name": "python3"
  },
  "language_info": {
   "codemirror_mode": {
    "name": "ipython",
    "version": 3
   },
   "file_extension": ".py",
   "mimetype": "text/x-python",
   "name": "python",
   "nbconvert_exporter": "python",
   "pygments_lexer": "ipython3",
   "version": "3.7.13"
  }
 },
 "nbformat": 4,
 "nbformat_minor": 5
}
