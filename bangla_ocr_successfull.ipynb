{
 "cells": [
  {
   "cell_type": "code",
   "execution_count": 1,
   "id": "c091e2e9",
   "metadata": {},
   "outputs": [],
   "source": [
    "import pytesseract"
   ]
  },
  {
   "cell_type": "code",
   "execution_count": 2,
   "id": "9db25eff",
   "metadata": {},
   "outputs": [],
   "source": [
    "from PIL import Image\n",
    "import numpy as np\n",
    "from tensorflow.keras.models import load_model"
   ]
  },
  {
   "cell_type": "code",
   "execution_count": 3,
   "id": "5caed28f",
   "metadata": {},
   "outputs": [],
   "source": [
    "pytesseract.pytesseract.tesseract_cmd=r'C:/Users/AHM ISRAFIL/AppData/Local/Programs/Python/Tesseract-OCR/tesseract.exe'"
   ]
  },
  {
   "cell_type": "code",
   "execution_count": 4,
   "id": "a2f69031",
   "metadata": {},
   "outputs": [],
   "source": [
    "# Load and preprocess the input image\n",
    "#image = Image.open('C:/Users/AHM ISRAFIL/Documents/ANACONDA/OCR Bangla/image.png')\n",
    "#image = Image.open('C:/Users/AHM ISRAFIL/Documents/ANACONDA/OCR Bangla/handwritten.png')\n",
    "image = Image.open('C:/Users/AHM ISRAFIL/Documents/ANACONDA/OCR Bangla/image3.png')\n"
   ]
  },
  {
   "cell_type": "code",
   "execution_count": 5,
   "id": "978b5e7a",
   "metadata": {},
   "outputs": [],
   "source": [
    "# Perform OCR with Tesseract\n",
    "tesseract_text = pytesseract.image_to_string(image, lang='ben')"
   ]
  },
  {
   "cell_type": "code",
   "execution_count": 6,
   "id": "71b3e307",
   "metadata": {},
   "outputs": [],
   "source": [
    "# Load the trained model\n",
    "model = load_model('C:/Users/AHM ISRAFIL/Documents/ANACONDA/OCR Bangla/model.h5')"
   ]
  },
  {
   "cell_type": "code",
   "execution_count": 7,
   "id": "9926d61e",
   "metadata": {},
   "outputs": [
    {
     "name": "stdout",
     "output_type": "stream",
     "text": [
      "1/1 [==============================] - 0s 154ms/step\n"
     ]
    }
   ],
   "source": [
    "from tensorflow.keras.preprocessing.image import img_to_array, load_img\n",
    "\n",
    "# Load and preprocess the input image\n",
    "image = load_img('C:/Users/AHM ISRAFIL/Documents/ANACONDA/OCR Bangla/image3.png', target_size=(256, 256))\n",
    "image_array = img_to_array(image) / 255.0  \n",
    "image_array = np.expand_dims(image_array, axis=0)  \n",
    "\n",
    "# Perform inference with your model\n",
    "model_text = model.predict(image_array)"
   ]
  },
  {
   "cell_type": "code",
   "execution_count": 8,
   "id": "967f53be",
   "metadata": {},
   "outputs": [],
   "source": [
    "max_probability = np.max(model_text)\n",
    "model_text_confidence = max_probability"
   ]
  },
  {
   "cell_type": "code",
   "execution_count": 9,
   "id": "3a0005a8",
   "metadata": {},
   "outputs": [],
   "source": [
    "max_length = 100\n",
    "tesseract_confidence = len(tesseract_text) / max_length\n"
   ]
  },
  {
   "cell_type": "code",
   "execution_count": 10,
   "id": "bc20cc8e",
   "metadata": {},
   "outputs": [
    {
     "name": "stdout",
     "output_type": "stream",
     "text": [
      "মাধ্যত্রে ্রমন স্মরন করা শ্ায়,\n",
      "তেমনি তাত ক্রা যায় তন্য\n",
      "-্লউক্রে আ্যাখারোর সাধ্যন্বে ।\n",
      "\n",
      "\n"
     ]
    }
   ],
   "source": [
    "# Combine results\n",
    "# For demonstration purposes, let's just choose the text with the highest confidence\n",
    "final_text = model_text if model_text_confidence > tesseract_confidence else tesseract_text\n",
    "\n",
    "# Print the final result\n",
    "print(final_text)"
   ]
  },
  {
   "cell_type": "code",
   "execution_count": null,
   "id": "cd0969f8",
   "metadata": {},
   "outputs": [],
   "source": []
  }
 ],
 "metadata": {
  "kernelspec": {
   "display_name": "Python 3 (ipykernel)",
   "language": "python",
   "name": "python3"
  },
  "language_info": {
   "codemirror_mode": {
    "name": "ipython",
    "version": 3
   },
   "file_extension": ".py",
   "mimetype": "text/x-python",
   "name": "python",
   "nbconvert_exporter": "python",
   "pygments_lexer": "ipython3",
   "version": "3.7.13"
  }
 },
 "nbformat": 4,
 "nbformat_minor": 5
}
