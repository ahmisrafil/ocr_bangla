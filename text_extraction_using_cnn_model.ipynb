{
 "cells": [
  {
   "cell_type": "code",
   "execution_count": 1,
   "id": "d90945cf",
   "metadata": {},
   "outputs": [],
   "source": [
    "import pytesseract\n",
    "from PIL import Image\n",
    "import numpy as np\n",
    "from tensorflow.keras.models import load_model"
   ]
  },
  {
   "cell_type": "code",
   "execution_count": 2,
   "id": "ff2a6c29",
   "metadata": {},
   "outputs": [],
   "source": [
    "pytesseract.pytesseract.tesseract_cmd=r'C:/Users/AHM ISRAFIL/AppData/Local/Programs/Python/Tesseract-OCR/tesseract.exe'"
   ]
  },
  {
   "cell_type": "code",
   "execution_count": 3,
   "id": "0e58522f",
   "metadata": {},
   "outputs": [],
   "source": [
    "# Load the trained model\n",
    "model = load_model('C:/Users/AHM ISRAFIL/Documents/ANACONDA/OCR Bangla/model.h5')"
   ]
  },
  {
   "cell_type": "code",
   "execution_count": 4,
   "id": "d5475702",
   "metadata": {},
   "outputs": [],
   "source": [
    "# Load and preprocess the input image\n",
    "image = Image.open('C:/Users/AHM ISRAFIL/Documents/ANACONDA/OCR Bangla/image.png')"
   ]
  },
  {
   "cell_type": "code",
   "execution_count": 5,
   "id": "d003a9a4",
   "metadata": {},
   "outputs": [],
   "source": [
    "# Perform OCR with Tesseract\n",
    "tesseract_text = pytesseract.image_to_string(image, lang='ben')  # Use 'ben' for Bangla language\n"
   ]
  },
  {
   "cell_type": "code",
   "execution_count": 6,
   "id": "497b743a",
   "metadata": {},
   "outputs": [
    {
     "name": "stdout",
     "output_type": "stream",
     "text": [
      "1/1 [==============================] - 0s 143ms/step\n",
      "[[0.00000000e+00 0.00000000e+00 0.00000000e+00 0.00000000e+00\n",
      "  5.18942443e-15 2.99861709e-19 7.32198319e-13 5.27791734e-11\n",
      "  5.73397608e-27 0.00000000e+00 3.31373259e-38 3.03837670e-34\n",
      "  5.44379796e-25 9.91761104e-31 0.00000000e+00 7.32659727e-27\n",
      "  0.00000000e+00 0.00000000e+00 0.00000000e+00 0.00000000e+00\n",
      "  0.00000000e+00 0.00000000e+00 0.00000000e+00 0.00000000e+00\n",
      "  0.00000000e+00 0.00000000e+00 6.01754050e-38 0.00000000e+00\n",
      "  0.00000000e+00 0.00000000e+00 5.86711985e-24 0.00000000e+00\n",
      "  0.00000000e+00 0.00000000e+00 0.00000000e+00 0.00000000e+00\n",
      "  2.00901053e-34 1.74285228e-32 0.00000000e+00 7.99079665e-37\n",
      "  1.51638016e-37 0.00000000e+00 0.00000000e+00 1.38171217e-30\n",
      "  0.00000000e+00 0.00000000e+00 0.00000000e+00 0.00000000e+00\n",
      "  0.00000000e+00 0.00000000e+00 0.00000000e+00 0.00000000e+00\n",
      "  0.00000000e+00 7.83275508e-34 0.00000000e+00 3.66023424e-25\n",
      "  0.00000000e+00 0.00000000e+00 1.11904736e-37 1.59761612e-19\n",
      "  0.00000000e+00 0.00000000e+00 8.98289264e-36 0.00000000e+00\n",
      "  0.00000000e+00 0.00000000e+00 3.90512624e-31 0.00000000e+00\n",
      "  8.02863101e-35 0.00000000e+00 0.00000000e+00 0.00000000e+00\n",
      "  0.00000000e+00 0.00000000e+00 0.00000000e+00 0.00000000e+00\n",
      "  0.00000000e+00 0.00000000e+00 0.00000000e+00 0.00000000e+00\n",
      "  1.01047498e-03 7.38842238e-04 3.07856360e-04 8.48250777e-21\n",
      "  4.00247530e-14 1.21806026e-29 7.28974191e-27 1.40197648e-04\n",
      "  7.04796871e-14 0.00000000e+00 1.09727321e-22 3.91876970e-29\n",
      "  1.16079216e-22 0.00000000e+00 4.11681730e-11 1.27055306e-25\n",
      "  3.24136957e-15 0.00000000e+00 1.96870149e-13 1.27281331e-18\n",
      "  0.00000000e+00 2.76536639e-26 1.24853849e-13 6.23333452e-15\n",
      "  1.11451884e-22 3.44731417e-38 5.94312811e-22 1.52966876e-20\n",
      "  0.00000000e+00 3.17443491e-15 5.96198657e-18 0.00000000e+00\n",
      "  9.97178435e-01 0.00000000e+00 2.55484534e-18 3.32737909e-28\n",
      "  0.00000000e+00 4.24539781e-09 6.05786113e-07 5.66902244e-38\n",
      "  2.42680953e-25 6.23636006e-04]]\n"
     ]
    }
   ],
   "source": [
    "from tensorflow.keras.preprocessing.image import img_to_array, load_img\n",
    "\n",
    "# Load and preprocess the input image\n",
    "image = load_img('C:/Users/AHM ISRAFIL/Documents/ANACONDA/OCR Bangla/image.png', target_size=(256, 256))\n",
    "image_array = img_to_array(image) / 255.0  # Convert image to array and normalize pixel values\n",
    "image_array = np.expand_dims(image_array, axis=0)  # Add batch dimension\n",
    "\n",
    "# Perform inference with your model\n",
    "model_text = model.predict(image_array)\n",
    "\n",
    "# Post-process the model output if needed\n",
    "\n",
    "# Print the final result\n",
    "print(model_text)"
   ]
  },
  {
   "cell_type": "code",
   "execution_count": 7,
   "id": "2214583e",
   "metadata": {},
   "outputs": [
    {
     "name": "stdout",
     "output_type": "stream",
     "text": [
      "০\n"
     ]
    }
   ],
   "source": [
    "# Get the index with the highest probability\n",
    "predicted_index = np.argmax(model_text)\n",
    "\n",
    "# Replace the placeholder with your provided class labels\n",
    "class_labels = [\n",
    "    'া', 'ি', 'ী', 'ু', 'ূ', 'ৃ', 'ে', 'ৈ', 'ো', 'ৌ', 'অ', 'আ', 'ই', 'ঈ', 'উ', 'ঊ', \n",
    "    'ঋ', 'এ', 'ঐ', 'ও', 'ঔ', 'ক', 'খ', 'গ', 'ঘ', 'ঙ', 'চ', 'ছ', 'জ', 'ঝ', 'ঞ', \n",
    "    'ট', 'ঠ', 'ড', 'ঢ', 'ণ', 'ত', 'থ', 'দ', 'ধ', 'ন', 'প', 'ফ', 'ব', 'ভ', 'ম', \n",
    "    'য', 'র', 'ল', 'শ', 'ষ', 'স', 'হ', 'ড়', 'ঢ়', 'য়', 'ৎ', 'ং', 'ঃ', 'ঁ', 'ব্দ', \n",
    "    'ঙ্গ', 'স্ক', 'স্ফ', 'চ্ছ', 'স্থ', 'ক্ত', 'স্ন', 'ষ্ণ', 'ম্প', 'প্ত', 'ম্ব', \n",
    "    'ত্থ', 'দ্ভ', 'ষ্ঠ', 'ল্প', 'ষ্প', 'ন্দ', 'ন্ধ', 'স্ম', 'ণ্ঠ', 'স্ত', 'ষ্ট', \n",
    "    'ন্ম', 'ত্ত', 'ঙ্খ', 'ত্ন', 'ন্ড', 'জ্ঞ', 'ড্ড', 'ক্ষ', 'দ্ব', 'চ্চ', 'ক্র', \n",
    "    'দ্দ', 'জ্জ', 'ক্ক', 'ন্ত', 'ক্ট', 'ঞ্চ', 'ট্ট', 'শ্চ', 'ক্স', 'জ্ব', 'ঞ্জ', \n",
    "    'দ্ধ', 'ন্ন', 'ঘ্ন', 'ক্ল', 'হ্ন', 'স্প', 'ল্ত', '০', '১', '২', '৩', '৪', '৫', \n",
    "    '৬', '৭', '৮', '৯'\n",
    "]\n",
    "\n",
    "# Decode the predicted indices into the predicted text\n",
    "#predicted_text = ''.join([class_labels[idx] for idx in predicted_indices])\n",
    "\n",
    "\n",
    "predicted_text = class_labels[predicted_index]\n",
    "# Print the predicted text\n",
    "print(predicted_text)\n"
   ]
  },
  {
   "cell_type": "code",
   "execution_count": 9,
   "id": "a442ca0a",
   "metadata": {},
   "outputs": [
    {
     "name": "stdout",
     "output_type": "stream",
     "text": [
      "Predicted Text: ০\n",
      "Index 0: Predicted Index 112, Predicted Label ০\n"
     ]
    }
   ],
   "source": [
    "# Assuming you have already obtained model_text from your model predictions\n",
    "\n",
    "# Get the index with the highest probability for each character position\n",
    "predicted_indices = np.argmax(model_text, axis=1)\n",
    "\n",
    "# Replace the placeholder with your provided class labels\n",
    "class_labels = [\n",
    "    'া', 'ি', 'ী', 'ু', 'ূ', 'ৃ', 'ে', 'ৈ', 'ো', 'ৌ', 'অ', 'আ', 'ই', 'ঈ', 'উ', 'ঊ', \n",
    "    'ঋ', 'এ', 'ঐ', 'ও', 'ঔ', 'ক', 'খ', 'গ', 'ঘ', 'ঙ', 'চ', 'ছ', 'জ', 'ঝ', 'ঞ', \n",
    "    'ট', 'ঠ', 'ড', 'ঢ', 'ণ', 'ত', 'থ', 'দ', 'ধ', 'ন', 'প', 'ফ', 'ব', 'ভ', 'ম', \n",
    "    'য', 'র', 'ল', 'শ', 'ষ', 'স', 'হ', 'ড়', 'ঢ়', 'য়', 'ৎ', 'ং', 'ঃ', 'ঁ', 'ব্দ', \n",
    "    'ঙ্গ', 'স্ক', 'স্ফ', 'চ্ছ', 'স্থ', 'ক্ত', 'স্ন', 'ষ্ণ', 'ম্প', 'প্ত', 'ম্ব', \n",
    "    'ত্থ', 'দ্ভ', 'ষ্ঠ', 'ল্প', 'ষ্প', 'ন্দ', 'ন্ধ', 'স্ম', 'ণ্ঠ', 'স্ত', 'ষ্ট', \n",
    "    'ন্ম', 'ত্ত', 'ঙ্খ', 'ত্ন', 'ন্ড', 'জ্ঞ', 'ড্ড', 'ক্ষ', 'দ্ব', 'চ্চ', 'ক্র', \n",
    "    'দ্দ', 'জ্জ', 'ক্ক', 'ন্ত', 'ক্ট', 'ঞ্চ', 'ট্ট', 'শ্চ', 'ক্স', 'জ্ব', 'ঞ্জ', \n",
    "    'দ্ধ', 'ন্ন', 'ঘ্ন', 'ক্ল', 'হ্ন', 'স্প', 'ল্ত', '০', '১', '২', '৩', '৪', '৫', \n",
    "    '৬', '৭', '৮', '৯'\n",
    "]\n",
    "\n",
    "# Decode the predicted indices into the predicted text\n",
    "predicted_text = ''.join([class_labels[idx] for idx in predicted_indices])\n",
    "\n",
    "# Print the predicted text\n",
    "print(\"Predicted Text:\", predicted_text)\n",
    "\n",
    "# Print predicted indices and their corresponding class labels for debugging\n",
    "for idx, label_idx in enumerate(predicted_indices):\n",
    "    print(f\"Index {idx}: Predicted Index {label_idx}, Predicted Label {class_labels[label_idx]}\")\n"
   ]
  },
  {
   "cell_type": "code",
   "execution_count": null,
   "id": "5cce9598",
   "metadata": {},
   "outputs": [],
   "source": []
  }
 ],
 "metadata": {
  "kernelspec": {
   "display_name": "Python 3 (ipykernel)",
   "language": "python",
   "name": "python3"
  },
  "language_info": {
   "codemirror_mode": {
    "name": "ipython",
    "version": 3
   },
   "file_extension": ".py",
   "mimetype": "text/x-python",
   "name": "python",
   "nbconvert_exporter": "python",
   "pygments_lexer": "ipython3",
   "version": "3.7.13"
  }
 },
 "nbformat": 4,
 "nbformat_minor": 5
}
