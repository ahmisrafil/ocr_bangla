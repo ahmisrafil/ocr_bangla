{
 "cells": [
  {
   "cell_type": "code",
   "execution_count": 13,
   "id": "165bce51",
   "metadata": {},
   "outputs": [],
   "source": [
    "import tensorflow as tf\n",
    "from tensorflow import keras\n",
    "from keras import Sequential\n",
    "from keras.layers import Dense,Conv2D,MaxPooling2D,Flatten,BatchNormalization,Dropout"
   ]
  },
  {
   "cell_type": "code",
   "execution_count": 14,
   "id": "a212502a",
   "metadata": {},
   "outputs": [
    {
     "name": "stdout",
     "output_type": "stream",
     "text": [
      "Found 109414 files belonging to 122 classes.\n",
      "Found 36595 files belonging to 122 classes.\n"
     ]
    }
   ],
   "source": [
    "# generators\n",
    "train_directory = r'C:/Users/AHM ISRAFIL/Documents/ANACONDA/OCR Bangla/data/train'\n",
    "val_directory = r'C:/Users/AHM ISRAFIL/Documents/ANACONDA/OCR Bangla/data/test'\n",
    "\n",
    "# Create image datasets from directories\n",
    "train_ds = keras.utils.image_dataset_from_directory(\n",
    "    directory=train_directory,\n",
    "    labels='inferred',\n",
    "    label_mode='int',\n",
    "    batch_size=32,\n",
    "    image_size=(256, 256)\n",
    ")\n",
    "\n",
    "validation_ds = keras.utils.image_dataset_from_directory(\n",
    "    directory=val_directory,\n",
    "    labels='inferred',\n",
    "    label_mode='int',\n",
    "    batch_size=32,\n",
    "    image_size=(256, 256)\n",
    ")"
   ]
  },
  {
   "cell_type": "code",
   "execution_count": 15,
   "id": "e82e99df",
   "metadata": {},
   "outputs": [],
   "source": [
    "# Normalize\n",
    "def process(image,label):\n",
    "    image = tf.cast(image/255. ,tf.float32)\n",
    "    return image,label\n",
    "\n",
    "train_ds = train_ds.map(process)\n",
    "validation_ds = validation_ds.map(process)"
   ]
  },
  {
   "cell_type": "code",
   "execution_count": 16,
   "id": "9a4e590b",
   "metadata": {},
   "outputs": [
    {
     "name": "stdout",
     "output_type": "stream",
     "text": [
      "Model: \"sequential\"\n",
      "_________________________________________________________________\n",
      " Layer (type)                Output Shape              Param #   \n",
      "=================================================================\n",
      " conv2d (Conv2D)             (None, 254, 254, 32)      896       \n",
      "                                                                 \n",
      " max_pooling2d (MaxPooling2D  (None, 127, 127, 32)     0         \n",
      " )                                                               \n",
      "                                                                 \n",
      " conv2d_1 (Conv2D)           (None, 125, 125, 64)      18496     \n",
      "                                                                 \n",
      " max_pooling2d_1 (MaxPooling  (None, 62, 62, 64)       0         \n",
      " 2D)                                                             \n",
      "                                                                 \n",
      " conv2d_2 (Conv2D)           (None, 60, 60, 128)       73856     \n",
      "                                                                 \n",
      " max_pooling2d_2 (MaxPooling  (None, 30, 30, 128)      0         \n",
      " 2D)                                                             \n",
      "                                                                 \n",
      " flatten (Flatten)           (None, 115200)            0         \n",
      "                                                                 \n",
      " dense (Dense)               (None, 128)               14745728  \n",
      "                                                                 \n",
      " dropout (Dropout)           (None, 128)               0         \n",
      "                                                                 \n",
      " dense_1 (Dense)             (None, 122)               15738     \n",
      "                                                                 \n",
      "=================================================================\n",
      "Total params: 14,854,714\n",
      "Trainable params: 14,854,714\n",
      "Non-trainable params: 0\n",
      "_________________________________________________________________\n"
     ]
    }
   ],
   "source": [
    "import tensorflow as tf\n",
    "from tensorflow import keras\n",
    "from tensorflow.keras import layers\n",
    "\n",
    "# Define the CNN model\n",
    "model = keras.Sequential([\n",
    "    # Input layer\n",
    "    layers.Input(shape=(256, 256, 3)),\n",
    "\n",
    "    # Convolutional layers\n",
    "    layers.Conv2D(32, kernel_size=(3, 3), activation='relu'),\n",
    "    layers.MaxPooling2D(pool_size=(2, 2)),\n",
    "    layers.Conv2D(64, kernel_size=(3, 3), activation='relu'),\n",
    "    layers.MaxPooling2D(pool_size=(2, 2)),\n",
    "    layers.Conv2D(128, kernel_size=(3, 3), activation='relu'),\n",
    "    layers.MaxPooling2D(pool_size=(2, 2)),\n",
    "\n",
    "    # Flatten layer\n",
    "    layers.Flatten(),\n",
    "\n",
    "    # Dense layers\n",
    "    layers.Dense(128, activation='relu'),\n",
    "    layers.Dropout(0.5),  # Dropout layer to reduce overfitting\n",
    "    layers.Dense(122, activation='softmax')  # Output layer with 122 classes\n",
    "])\n",
    "\n",
    "# Compile the model\n",
    "model.compile(optimizer='adam',\n",
    "              loss='sparse_categorical_crossentropy',  # Since labels are integers\n",
    "              metrics=['accuracy'])\n",
    "\n",
    "# Display model summary\n",
    "model.summary()\n"
   ]
  },
  {
   "cell_type": "code",
   "execution_count": 17,
   "id": "af511673",
   "metadata": {},
   "outputs": [],
   "source": [
    "model.compile(optimizer='adam',loss='sparse_categorical_crossentropy',metrics=['accuracy'])"
   ]
  },
  {
   "cell_type": "code",
   "execution_count": 18,
   "id": "9bc9a6da",
   "metadata": {},
   "outputs": [
    {
     "name": "stdout",
     "output_type": "stream",
     "text": [
      "Epoch 1/10\n",
      "3420/3420 [==============================] - 4626s 1s/step - loss: 2.5528 - accuracy: 0.3681 - val_loss: 1.1760 - val_accuracy: 0.7089\n",
      "Epoch 2/10\n",
      "3420/3420 [==============================] - 4496s 1s/step - loss: 1.7113 - accuracy: 0.5380 - val_loss: 0.9938 - val_accuracy: 0.7482\n",
      "Epoch 3/10\n",
      "3420/3420 [==============================] - 4803s 1s/step - loss: 1.4734 - accuracy: 0.5912 - val_loss: 0.8704 - val_accuracy: 0.7682\n",
      "Epoch 4/10\n",
      "3420/3420 [==============================] - 4707s 1s/step - loss: 1.3197 - accuracy: 0.6263 - val_loss: 0.8271 - val_accuracy: 0.7803\n",
      "Epoch 5/10\n",
      "3420/3420 [==============================] - 4319s 1s/step - loss: 1.2061 - accuracy: 0.6544 - val_loss: 0.8000 - val_accuracy: 0.7895\n",
      "Epoch 6/10\n",
      "3420/3420 [==============================] - 4594s 1s/step - loss: 1.1069 - accuracy: 0.6779 - val_loss: 0.7803 - val_accuracy: 0.7937\n",
      "Epoch 7/10\n",
      "3420/3420 [==============================] - 4520s 1s/step - loss: 1.0166 - accuracy: 0.6996 - val_loss: 0.7741 - val_accuracy: 0.7960\n",
      "Epoch 8/10\n",
      "3420/3420 [==============================] - 4304s 1s/step - loss: 0.9461 - accuracy: 0.7173 - val_loss: 0.7966 - val_accuracy: 0.7985\n",
      "Epoch 9/10\n",
      "3420/3420 [==============================] - 4376s 1s/step - loss: 0.8901 - accuracy: 0.7306 - val_loss: 0.7821 - val_accuracy: 0.8000\n",
      "Epoch 10/10\n",
      "3420/3420 [==============================] - 4348s 1s/step - loss: 0.8385 - accuracy: 0.7428 - val_loss: 0.8061 - val_accuracy: 0.7955\n"
     ]
    }
   ],
   "source": [
    "history = model.fit(train_ds,epochs=10,validation_data=validation_ds)"
   ]
  },
  {
   "cell_type": "code",
   "execution_count": 19,
   "id": "06dea18b",
   "metadata": {},
   "outputs": [
    {
     "name": "stdout",
     "output_type": "stream",
     "text": [
      "Epoch 11/15\n",
      "3420/3420 [==============================] - 4426s 1s/step - loss: 0.7936 - accuracy: 0.7546 - val_loss: 0.8048 - val_accuracy: 0.7989\n",
      "Epoch 12/15\n",
      "3420/3420 [==============================] - 4299s 1s/step - loss: 0.7559 - accuracy: 0.7637 - val_loss: 0.8450 - val_accuracy: 0.7967\n",
      "Epoch 13/15\n",
      "3420/3420 [==============================] - 4356s 1s/step - loss: 0.7246 - accuracy: 0.7723 - val_loss: 0.8192 - val_accuracy: 0.8019\n",
      "Epoch 14/15\n",
      "3420/3420 [==============================] - 7126s 2s/step - loss: 0.7006 - accuracy: 0.7778 - val_loss: 0.8751 - val_accuracy: 0.8009\n",
      "Epoch 15/15\n",
      "3420/3420 [==============================] - 4419s 1s/step - loss: 0.6773 - accuracy: 0.7852 - val_loss: 0.8630 - val_accuracy: 0.7993\n"
     ]
    }
   ],
   "source": [
    "history = model.fit(train_ds, epochs=15, validation_data=validation_ds, initial_epoch=10)\n"
   ]
  },
  {
   "cell_type": "code",
   "execution_count": 20,
   "id": "01475ae2",
   "metadata": {},
   "outputs": [
    {
     "name": "stdout",
     "output_type": "stream",
     "text": [
      "Saved model to disk\n"
     ]
    }
   ],
   "source": [
    "# for saving the model.\n",
    "# from tensorflow.keras.models import load_model\n",
    "model.save(\"model.h5\") #replace model.h5 with ocr_v1.h5\n",
    "print(\"Saved model to disk\")"
   ]
  },
  {
   "cell_type": "code",
   "execution_count": 21,
   "id": "3793c2d1",
   "metadata": {},
   "outputs": [
    {
     "name": "stdout",
     "output_type": "stream",
     "text": [
      "Epoch 16/16\n",
      "3420/3420 [==============================] - 4927s 1s/step - loss: 0.6513 - accuracy: 0.7919 - val_loss: 0.8735 - val_accuracy: 0.8002\n"
     ]
    }
   ],
   "source": [
    "history = model.fit(train_ds, epochs=16, validation_data=validation_ds, initial_epoch=15)"
   ]
  },
  {
   "cell_type": "code",
   "execution_count": 22,
   "id": "ac4d68a7",
   "metadata": {},
   "outputs": [
    {
     "name": "stdout",
     "output_type": "stream",
     "text": [
      "Saved model to disk\n"
     ]
    }
   ],
   "source": [
    "# for saving the model.\n",
    "# from tensorflow.keras.models import load_model\n",
    "model.save(\"model.h5\") #replace model.h5 with ocr_v1.h5\n",
    "print(\"Saved model to disk\")"
   ]
  },
  {
   "cell_type": "code",
   "execution_count": null,
   "id": "bd3712bb",
   "metadata": {},
   "outputs": [],
   "source": []
  }
 ],
 "metadata": {
  "kernelspec": {
   "display_name": "Python 3 (ipykernel)",
   "language": "python",
   "name": "python3"
  },
  "language_info": {
   "codemirror_mode": {
    "name": "ipython",
    "version": 3
   },
   "file_extension": ".py",
   "mimetype": "text/x-python",
   "name": "python",
   "nbconvert_exporter": "python",
   "pygments_lexer": "ipython3",
   "version": "3.9.12"
  }
 },
 "nbformat": 4,
 "nbformat_minor": 5
}
